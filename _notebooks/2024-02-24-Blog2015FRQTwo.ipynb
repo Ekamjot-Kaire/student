{
 "cells": [
  {
   "attachments": {},
   "cell_type": "markdown",
   "metadata": {},
   "source": [
    "---\n",
    "toc: true\n",
    "comments: true\n",
    "layout: post\n",
    "title: 2015 FRQ Practice Exam Question Two\n",
    "courses: { csa: {week: 24, categories: [24.A]} }\n",
    "---"
   ]
  },
  {
   "attachments": {},
   "cell_type": "markdown",
   "metadata": {},
   "source": [
    "<h2> Question 2 </h2>\n",
    "\n",
    "**copied below**\n",
    "\n",
    "Consider a guessing game in which a player tries to guess a hidden word. The hidden word contains only capital letters and has a length known to the player. A guess contains only capital letters and has the same length as the hidden word.\n",
    "\n",
    "After a guess is made, the player is given a hint that is based on a comparison between the hidden word and the guess. Each position in the hint contains a character that corresponds to the letter in the same position in the guess. The following rules determine the characters that appear in the hint.\n",
    "\n",
    "The HiddenWord class will be used to represent the hidden word in the game. The hidden word is passed to the constructor. The class contains a method, getHint, that takes a guess and produces a hint.\n",
    "\n",
    "For example, suppose the variable puzzle is declared as follows.\n",
    "\n",
    "HiddenWord puzzle = new HiddenWord(“HARPS”);\n",
    "\n",
    "The following table shows several guesses and the hints that would be produced.\n",
    "\n",
    "Write the complete HiddenWord class, including any necessary instance variables, its constructor, and the method, getHint, described above. You may assume that the length of the guess is the same as the length of the hidden word.\n",
    "\n",
    "<h3> Type of FRQ </h3> \n",
    "\n",
    "This is a **Classes** type of CSA question. The question asks us to completely design a new class, and it requires an understanding of object oriented programming, and knowing what a class needs such as constructor methods. \n",
    "\n"
   ]
  },
  {
   "cell_type": "code",
   "execution_count": 1,
   "metadata": {},
   "outputs": [
    {
     "name": "stdout",
     "output_type": "stream",
     "text": [
      "Hint 1: +A+++\n",
      "Hint 2: H****\n",
      "Hint 3: H*++*\n",
      "Hint 4: HAR*S\n",
      "Hint 5: HARPS\n"
     ]
    }
   ],
   "source": [
    "public class HiddenWord {\n",
    "\n",
    "    private String answerWord;  // instance variable for the answer word\n",
    "\n",
    "    public HiddenWord(String answerWord) { \n",
    "        this.answerWord = answerWord; // constructor method\n",
    "    }\n",
    "\n",
    "    public String getHint(String inputWord) {\n",
    "        \n",
    "        StringBuilder hintWord = new StringBuilder(\"*****\"); // setting the hint word given to player to be entirely *\n",
    "\n",
    "        for (int i = 0; i < answerWord.length(); i++) {\n",
    "            char inputCharacter = inputWord.charAt(i); // pulling single character from the word inputted and answer word\n",
    "            char answerCharacter = answerWord.charAt(i);\n",
    "\n",
    "            if (inputCharacter == answerCharacter) {\n",
    "                hintWord.setCharAt(i, inputCharacter); // if char matches, set char in answerWord\n",
    "            }\n",
    "            else if (answerWord.contains(String.valueOf(inputCharacter))){\n",
    "                hintWord.setCharAt(i, '+'); // if char is in different index, set as +\n",
    "            } \n",
    "        }\n",
    "\n",
    "        return hintWord.toString();\n",
    "    }\n",
    "\n",
    "    public static void main(String[] args) {\n",
    "        HiddenWord hiddenWord = new HiddenWord(\"HARPS\");\n",
    "\n",
    "        String input1 = \"AAAAA\";\n",
    "        String input2 = \"HELLO\";\n",
    "        String input3 = \"HEART\";\n",
    "        String input4 = \"HARMS\";\n",
    "        String input5 = \"HARPS\";\n",
    "\n",
    "        System.out.println(\"Hint 1: \" + hiddenWord.getHint(input1));  \n",
    "        System.out.println(\"Hint 2: \" + hiddenWord.getHint(input2));\n",
    "        System.out.println(\"Hint 3: \" + hiddenWord.getHint(input3));\n",
    "        System.out.println(\"Hint 4: \" + hiddenWord.getHint(input4));\n",
    "        System.out.println(\"Hint 5: \" + hiddenWord.getHint(input5));\n",
    "    }\n",
    "}\n",
    "\n",
    "HiddenWord.main(null);"
   ]
  },
  {
   "attachments": {},
   "cell_type": "markdown",
   "metadata": {},
   "source": [
    "<h3> How I solved this problem: </h3>\n",
    "\n",
    "I first set an instance variable for the word that the player is trying to guess (answerWord). \n",
    "\n",
    "Then I created a constructor method of the HiddenWord class, which initializes answerWord as an argument. \n",
    "\n",
    "The HiddenWord class first creates the output word which the player will receive as a hint. The output word is set as all asterisks as default, assuming the player guesses none of the letters. Then, the iteration loop goes through each possible character index of the answer and input words (which are the same length). The letters at each of these indexes are compared, and the output word's character at that index changes accordingly.\n",
    "\n",
    "\n",
    "<h3> Reflection </h3>\n",
    "\n",
    "**New Learning**: I learned that the StringBuilder class must be used to create a new string. String builder allows the output string to be modified, which is essential for the purpose of this problem. \n",
    "\n",
    "Also need to review the essential parts of a Java class object, such as instance variables, object properties, constructors, methods (including specific types like getters, setters, ect)"
   ]
  }
 ],
 "metadata": {
  "kernelspec": {
   "display_name": "Java",
   "language": "java",
   "name": "java"
  },
  "language_info": {
   "codemirror_mode": "java",
   "file_extension": ".jshell",
   "mimetype": "text/x-java-source",
   "name": "java",
   "pygments_lexer": "java",
   "version": "20.0.1"
  },
  "orig_nbformat": 4
 },
 "nbformat": 4,
 "nbformat_minor": 2
}
