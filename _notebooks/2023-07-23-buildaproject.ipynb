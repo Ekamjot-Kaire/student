{
 "cells": [
  {
   "attachments": {},
   "cell_type": "markdown",
   "metadata": {},
   "source": [
    "---\n",
    "layout: post\n",
    "title: Build a Project Hacks\n",
    "---"
   ]
  },
  {
   "cell_type": "code",
   "execution_count": 13,
   "metadata": {
    "vscode": {
     "languageId": "html"
    }
   },
   "outputs": [
    {
     "data": {
      "text/html": [
       "\n",
       "<head></head>\n",
       "<link rel=\"stylesheet\" type=\"text/css\" href=\"images/style.css\">\n",
       "<body>\n",
       "  <div class=\"size\"></div>\n",
       "  <div class=\"color-box\">\n",
       "    <input type=\"color\" id=\"color-picker\" style=\"border: none; outline: none;\">\n",
       "  </div>\n",
       "  <button class=\"button reset-btn\" onclick=\"window.location.reload()\"><span>Reset</span></button>\n",
       "</body>\n",
       "\n",
       "\n",
       "<script> // iterates and makes the grid\n",
       "  const size = document.querySelector('.size');\n",
       "  const width = 20; // these numbers change the grid size\n",
       "  const height = 20;\n",
       " \n",
       "  for (let i = 0; i < height; i++) {\n",
       "    const row = document.createElement('div');\n",
       "    row.classList.add('row');\n",
       "    size.appendChild(row);\n",
       "\n",
       "    for (let j = 0; j < width; j++) {\n",
       "      const cell = document.createElement('div');\n",
       "      cell.classList.add('cell');\n",
       "      row.appendChild(cell);\n",
       "    }\n",
       "  }\n",
       "</script>\n",
       "<script>\n",
       "  const cells = document.querySelectorAll('.cell');\n",
       "  const colorPicker = document.getElementById('color-picker');\n",
       "  const colorBox = document.querySelector('.color-box');\n",
       "  const resetBtn = document.getElementById('reset-button');\n",
       "  \n",
       "  cells.forEach(cell => {\n",
       "    cell.addEventListener('click', () => {\n",
       "      const selectedColor = colorPicker.value;\n",
       "      cell.style.backgroundColor = selectedColor;\n",
       "    });\n",
       "  });\n",
       "  \n",
       "  colorPicker.addEventListener('input', () => {\n",
       "    const selectedColor = colorPicker.value;\n",
       "    colorBox.style.backgroundColor = selectedColor;\n",
       "  });\n",
       "  \n",
       "  // this section changes all of the cells back to white\n",
       "  resetBtn.addEventListener('click', () => {\n",
       "    cells.forEach(cell => {\n",
       "      cell.style.backgroundColor = 'white';\n",
       "    });\n",
       "  });\n",
       "  \n",
       "</script>\n",
       "</html>\n"
      ],
      "text/plain": [
       "<IPython.core.display.HTML object>"
      ]
     },
     "metadata": {},
     "output_type": "display_data"
    }
   ],
   "source": [
    "%%html\n",
    "\n",
    "<head></head>\n",
    "<link rel=\"stylesheet\" type=\"text/css\" href=\"images/style.css\">\n",
    "<body>\n",
    "  <div class=\"size\"></div>\n",
    "  <div class=\"color-box\">\n",
    "    <input type=\"color\" id=\"color-picker\" style=\"border: none; outline: none;\">\n",
    "  </div>\n",
    "  <button class=\"button reset-btn\" onclick=\"window.location.reload()\"><span>Reset</span></button>\n",
    "</body>\n",
    "\n",
    "\n",
    "<script> // iterates and makes the grid\n",
    "  const size = document.querySelector('.size');\n",
    "  const width = 20; // these numbers change the grid size\n",
    "  const height = 20;\n",
    " \n",
    "  for (let i = 0; i < height; i++) {\n",
    "    const row = document.createElement('div');\n",
    "    row.classList.add('row');\n",
    "    size.appendChild(row);\n",
    "\n",
    "    for (let j = 0; j < width; j++) {\n",
    "      const cell = document.createElement('div');\n",
    "      cell.classList.add('cell');\n",
    "      row.appendChild(cell);\n",
    "    }\n",
    "  }\n",
    "</script>\n",
    "<script>\n",
    "  const cells = document.querySelectorAll('.cell');\n",
    "  const colorPicker = document.getElementById('color-picker');\n",
    "  const colorBox = document.querySelector('.color-box');\n",
    "  const resetBtn = document.getElementById('reset-button');\n",
    "  \n",
    "  cells.forEach(cell => {\n",
    "    cell.addEventListener('click', () => {\n",
    "      const selectedColor = colorPicker.value;\n",
    "      cell.style.backgroundColor = selectedColor;\n",
    "    });\n",
    "  });\n",
    "  \n",
    "  colorPicker.addEventListener('input', () => {\n",
    "    const selectedColor = colorPicker.value;\n",
    "    colorBox.style.backgroundColor = selectedColor;\n",
    "  });\n",
    "  \n",
    "  // this section changes all of the cells back to white\n",
    "  resetBtn.addEventListener('click', () => {\n",
    "    cells.forEach(cell => {\n",
    "      cell.style.backgroundColor = 'white';\n",
    "    });\n",
    "  });\n",
    "  \n",
    "</script>\n",
    "</html>"
   ]
  }
 ],
 "metadata": {
  "kernelspec": {
   "display_name": "base",
   "language": "python",
   "name": "python3"
  },
  "language_info": {
   "codemirror_mode": {
    "name": "ipython",
    "version": 3
   },
   "file_extension": ".py",
   "mimetype": "text/x-python",
   "name": "python",
   "nbconvert_exporter": "python",
   "pygments_lexer": "ipython3",
   "version": "3.9.12"
  },
  "orig_nbformat": 4
 },
 "nbformat": 4,
 "nbformat_minor": 2
}
