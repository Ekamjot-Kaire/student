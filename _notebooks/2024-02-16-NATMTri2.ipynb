{
 "cells": [
  {
   "attachments": {},
   "cell_type": "markdown",
   "metadata": {},
   "source": [
    "---\n",
    "layout: notebook\n",
    "title: Night At the Museum Capture the Moment | Tri 2\n",
    "type: hacks\n",
    "courses: { csa: {week: 19} }\n",
    "---"
   ]
  },
  {
   "attachments": {},
   "cell_type": "markdown",
   "metadata": {},
   "source": [
    "<h2> Two Trimester Focus Planning </h2>\n",
    "\n",
    "By this point in our project, we had expected to have a large portion of our project running fully. I believe we somewhat reached this goal. Many of our features were functioning or close to functioning. There were a couple things we could fix, such as UI for the data from image recognition, or checking the QR code generator to make it work smoother. However, our audiences seemed to be interested in the features we did have, meaning we are on the right track\n",
    "\n",
    "* We used Night at the Museum to survey people on how they felt on our demo. We asked two questions; what features would you want to improvement on, and what user interface features would you improvement on? We noted down what they said, especially feedback that users seemed to repeat a lot, like making the UI more straightforward. \n",
    "* One thing we may likely add to our project is a better way to handle the data detected by our image recognition system. They suggested having it automatically sent to a google doc or sheet. However, if that doesn't work out we may have it save on our website itself, or maybe as a csv file\n",
    "\n",
    "<h2> Me and the Team </h2>\n",
    "\n",
    "* Glows: Our audience seemed to interested in our features. They said it would be something they would use in their classes, which means our project can be useful outside of our classroom setting. \n",
    "* Grows: many of our features were statistics oriented. People who weren't currently in a statistics class didn't seem to connect with our project as much. Maybe we can try branching out more with our remaining time \n",
    "\n",
    "<img src=\"images/1000002221.jpg\">\n",
    "\n",
    "<img src=\"images/1000002225.jpg\">\n"
   ]
  },
  {
   "attachments": {},
   "cell_type": "markdown",
   "metadata": {},
   "source": [
    "<h2> Event </h2>\n",
    "\n",
    "Work from another compsci class:\n",
    "\n",
    "<img src=\"images/IMG_0865.jpg\">\n",
    "\n",
    "This was a project that essentially recreated a video calling site. I thought it was very impressive how many people could connect into the call at once. It was also secure, using JWTs to confirm whether people could enter the call or not. \n",
    "\n",
    "However, one piece of feedback that I gave was that virtual meeting sites like this already exist. I suggested they should include features that make their project different, so that it has some use outside of just being a project. One example could be integrating slack to allow teams to more easily collaborate.\n",
    "\n",
    "Work from outside a compsci class:\n",
    "\n",
    "<img src=\"images/duck.png\">\n",
    "\n",
    "This was something I saw in the ceramics class. I like how they molded the clay so neatly. I also like that they made a goose that can also be used as a teapot. It doesn't seemed to be glazed yet, but I thought it already looked great. "
   ]
  }
 ],
 "metadata": {
  "language_info": {
   "name": "python"
  },
  "orig_nbformat": 4
 },
 "nbformat": 4,
 "nbformat_minor": 2
}
