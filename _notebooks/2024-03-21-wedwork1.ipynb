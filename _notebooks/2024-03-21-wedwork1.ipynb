{
 "cells": [
  {
   "attachments": {},
   "cell_type": "markdown",
   "metadata": {},
   "source": [
    "---\n",
    "toc: true\n",
    "comments: true\n",
    "layout: post\n",
    "title: Wednesday Workshop One Hacks\n",
    "type: tangibles\n",
    "courses: { csa: {week: 28} }\n",
    "---"
   ]
  },
  {
   "attachments": {},
   "cell_type": "markdown",
   "metadata": {},
   "source": [
    "## Question 1: Primitive Types vs Reference Types (Unit 1)\n",
    "\n",
    "---\n",
    "\n",
    "### MCQ Question\n",
    "\n",
    "Situation: You are developing a banking application where you need to represent customer information. You have decided to use both primitive types and reference types for this purpose.\n",
    "\n",
    "**(a) Define primitive types and reference types in Java. Provide examples of each.**\n",
    "\n",
    "Primitive data types are the most base level data type (can't be divided further into smaller data types). They come as part if the Java language, but can be manipulated. An example of a primitive data type is a **boolean**\n",
    "\n",
    "Reference data types are any non-primitive data type. They are not pre-defined, but have to be created by the programmer. Reference data types are not stored in the program itself, but instead using a reference data type creates a connection (reference) to a different memory location which stores that information. AN example of a reference type is a **class**\n",
    "\n",
    "\n",
    "\n",
    "**(b) Explain the differences between primitive types and reference types in terms of memory allocation and usage in Java programs.**\n",
    "\n",
    "Primitive types are stored in the program itself. They values they store can't be changed once they are defined (though the variable can be reassigned to a new value)\n",
    "\n",
    "Reference types are not stored in the program. Instead, we store the reference to a different location, which holds the information we need. Using a reference type means you are accessing that memory location \n",
    "\n",
    "\n",
    "**(c) Code:**\n",
    "\n",
    "You have a method `calculateInterest` that takes a primitive `double` type representing the principal amount and a reference type `Customer` representing the customer information. Write  the method signature and the method implementation. Include comments to explain your code.\n",
    "\n",
    "\n",
    "\n"
   ]
  },
  {
   "cell_type": "code",
   "execution_count": 3,
   "metadata": {},
   "outputs": [
    {
     "name": "stdout",
     "output_type": "stream",
     "text": [
      "Interest calculated: 1500.0\n"
     ]
    }
   ],
   "source": [
    "public class InterestSim {\n",
    "\n",
    "    public static class Customer { // creating customer class so we can create object \n",
    "        private String name;\n",
    "        private int creditScore; \n",
    "\n",
    "        public Customer(String name, int creditScore) {\n",
    "            this.name = name;\n",
    "            this.creditScore = creditScore;\n",
    "        }\n",
    "\n",
    "        public int getCreditScore() {\n",
    "            return creditScore;\n",
    "        }\n",
    "    }\n",
    "\n",
    "    public static double calculateInterest(double principalAmount, Customer customer) {  //interestRate is a PRIMITIVE TYPE (double); Customer is a REFERNCE TYPE (class)\n",
    "\n",
    "\n",
    "        double interestRate = 0.0; // initializing interest rate --> changes based on credit score \n",
    "\n",
    "        int creditScore = customer.getCreditScore(); //credit score is attribute of Customer\n",
    "        if (creditScore >= 300 && creditScore <= 579) { // interest rate changes based on credit score\n",
    "            interestRate = 0.05;\n",
    "        } else if (creditScore >= 580 && creditScore <= 669) {\n",
    "            interestRate = 0.1;\n",
    "        } else if (creditScore >= 670 && creditScore <= 799) {\n",
    "            interestRate = 0.15;\n",
    "        } else if (creditScore >= 800 && creditScore <= 850) {\n",
    "            interestRate = 0.2;\n",
    "        }\n",
    "\n",
    "        return principalAmount * interestRate;\n",
    "    }\n",
    "\n",
    "    public static void main(String[] args) {\n",
    "\n",
    "        Customer customer = new Customer(\"John Mortensen\", 700);\n",
    "\n",
    "        double principalAmount = 10000; // principal amount $10,000\n",
    "        double interest = calculateInterest(principalAmount, customer);\n",
    "\n",
    "        System.out.println(\"Interest calculated: \" + interest);\n",
    "    }\n",
    "}\n",
    "\n",
    "interestSim.main(null);"
   ]
  },
  {
   "attachments": {},
   "cell_type": "markdown",
   "metadata": {},
   "source": [
    "## Question 2: Iteration over 2D arrays (Unit 4)\n",
    "\n",
    "---\n",
    "\n",
    "Situation: You are developing a game where you need to track player scores on a 2D grid representing levels and attempts.\n",
    "\n",
    "**(a) Explain the concept of iteration over a 2D array in Java. Provide an example scenario where iterating over a 2D array is useful in a programming task.**\n",
    "\n",
    "To iterate over a 2D array, we would need to access every element. That means we have to first iterate through each row one by one, and within each row we have to iterate through the columns. To do this, nested for loops are used.  \n",
    "\n",
    "Iteration through 2D arrays are very commonly used for images, since pixels already come in a 2D array. Accessing the information of each pixel in an image (RGB values) would require a 2D iteration, using the pixels row and column values. \n",
    "\n",
    "\n",
    "**(b) Code:**\n",
    "\n",
    "You need to implement a method `calculateTotalScore` that takes a 2D array `scores` of integers representing player scores and returns the sum of all the elements in the array. Write the method signature and the method implementation. Include comments to explain your code."
   ]
  },
  {
   "cell_type": "code",
   "execution_count": 7,
   "metadata": {},
   "outputs": [
    {
     "name": "stdout",
     "output_type": "stream",
     "text": [
      "total Score: 670\n"
     ]
    }
   ],
   "source": [
    "public class CalculatingScores {\n",
    "    \n",
    "    public int calculateTotalScore(int[][] scores) { //method takes 2d array of scores\n",
    "        int totalScore = 0; // total score var intilalizing \n",
    "\n",
    "        //2d iteration\n",
    "        for (int i = 0; i < scores.length; i++) { //iterating through each row \n",
    "            for (int j = 0; j < scores[i].length; j++) { //iterating through each column\n",
    "                totalScore += scores[i][j]; \n",
    "            }\n",
    "        }\n",
    "        \n",
    "        return totalScore; \n",
    "    }\n",
    "\n",
    "    public static void main(String[] args) {\n",
    "\n",
    "        {% raw %}\n",
    "        int[][] scores = {{15, 24, 78, 29},\n",
    "                        {90, 67, 37, 65},\n",
    "                        {42, 55, 75, 93}};\n",
    "        {% endraw %}\n",
    "        CalculatingScores calculator = new CalculatingScores();\n",
    "        int totalScore = calculator.calculateTotalScore(scores);\n",
    "        \n",
    "        System.out.println(\"total Score: \" + totalScore);\n",
    "    }\n",
    "}\n",
    "\n",
    "CalculatingScores.main(null);"
   ]
  },
  {
   "attachments": {},
   "cell_type": "markdown",
   "metadata": {},
   "source": [
    "## Question 3 -- taught by my team \n",
    "---\n",
    "\n",
    "<br>\n",
    "<br>\n",
    "\n",
    "## Question 4 \n",
    "---\n",
    "Situation: You are developing a scientific MathClass application where users need to perform various mathematical operations.\n",
    "\n",
    "**(a) Discuss the purpose and utility of the Math class in Java programming. Provide examples of at least three methods provided by the Math class and explain their usage.**\n",
    "\n",
    "The purpose of the Math class is to provide more functionality for math. It allows you to more easily do common math operations, which would have required more code to accomplish with just plain Java. \n",
    "\n",
    "Three methods:\n",
    "- Math.toRadians(double angdeg) : takes in a double that is a degree value, converts it into radians\n",
    "- Math.round(float a) : rounds into an integer following basic rounding rules\n",
    "- Math.cos(double a) : returns the cosine of an angle value\n",
    "\n",
    "\n",
    "**(b) Code: You need to implement a method calculateSquareRoot that takes a double number as input and returns its square root using the Math class. Write the method signature and the method implementation. Include comments to explain your code.**\n",
    "\n"
   ]
  },
  {
   "cell_type": "code",
   "execution_count": 10,
   "metadata": {},
   "outputs": [
    {
     "name": "stdout",
     "output_type": "stream",
     "text": [
      "6.18869937870632\n"
     ]
    }
   ],
   "source": [
    "public class SquareRootCalculator {\n",
    "    \n",
    "    public static double calculateSquareRoot(double input) {  //takes in double number as input\n",
    "        double squareRoot = Math.sqrt(input); //finding squareRoot\n",
    "        return squareRoot;\n",
    "    }\n",
    "    \n",
    "    public static void main(String[] args) { \n",
    "        double input = 38.3;\n",
    "        double squareRoot = calculateSquareRoot(input);\n",
    "        System.out.println(squareRoot);\n",
    "    }\n",
    "}\n",
    "\n",
    "SquareRootCalculator.main(null)"
   ]
  },
  {
   "attachments": {},
   "cell_type": "markdown",
   "metadata": {},
   "source": [
    "## Question 5\n",
    "---\n",
    "\n",
    "Situation: You are developing a simple grading system where you need to determine if a given score is passing or failing.\n",
    "\n",
    "**(a) Explain the roles and usage of the if statement, while loop, and else statement in Java programming. Provide examples illustrating each.**\n",
    "\n",
    "IF STATEMENT/ELSE STATEMENT: allows the program to make a decision based on conditions created by programmer. Different code is run based on the condition that is met. The else statement gives the program other instructions for if the condition is not met. m\n",
    "\n",
    "An example would be the following code snippet \n",
    "\n",
    "``` \n",
    "int n = 10;\n",
    "boolean bool;\n",
    "\n",
    "if (n > 20) { //if this condition is true \n",
    "        bool = true; // do this \n",
    "} else { // if the condition was not met\n",
    "        bool = false; // do this\n",
    "};\n",
    "\n",
    "System.out.println(bool);\n",
    "\n",
    "```\n",
    "OUTPUT: the condition was not met so bool is false \n",
    "\n",
    "<br>\n",
    "\n",
    "WHILE LOOP: while something is true, the code within the while loop continues to run. This is more flexible than if statements because it automatically repeats until condition is met.\n",
    "\n",
    "\n",
    "```\n",
    "int count = 0; \n",
    " \n",
    "while (count < 5) { //while loop will run while count is less than 5\n",
    "    count++; \n",
    "}\n",
    "\n",
    "System.out.println(\"count is over\"); // this runs when while loop is over\n",
    "```\n",
    "\n",
    "\n",
    "<br>\n",
    "<br>\n",
    "\n",
    "**(b) You need to implement a method printGradeStatus that takes an integer score as input and prints “Pass” if the score is greater than or equal to 60, and “Fail” otherwise. Write the method signature and the method implementation. Include comments to explain your code.**\n"
   ]
  },
  {
   "cell_type": "code",
   "execution_count": 11,
   "metadata": {},
   "outputs": [
    {
     "name": "stdout",
     "output_type": "stream",
     "text": [
      "pass\n",
      "fail\n"
     ]
    }
   ],
   "source": [
    "public class GradeChecking {\n",
    "    public static void printGradeStatus(int score) { //takes an integer score\n",
    "\n",
    "        if (score >= 60) { // if the score is larger than 60, the program outputs PASS\n",
    "            System.out.println(\"pass\");\n",
    "        } \n",
    "        else { // if the score is not larger than 60, the program outputs FAIL\n",
    "            System.out.println(\"fail\");\n",
    "        }\n",
    "    }\n",
    "\n",
    "    public static void main(String[] args) {\n",
    "        printGradeStatus(75);  \n",
    "        printGradeStatus(45);  \n",
    "    }\n",
    "}\n",
    "\n",
    "GradeChecking.main(null);"
   ]
  }
 ],
 "metadata": {
  "kernelspec": {
   "display_name": "Java",
   "language": "java",
   "name": "java"
  },
  "language_info": {
   "codemirror_mode": "java",
   "file_extension": ".jshell",
   "mimetype": "text/x-java-source",
   "name": "java",
   "pygments_lexer": "java",
   "version": "20.0.1"
  },
  "orig_nbformat": 4
 },
 "nbformat": 4,
 "nbformat_minor": 2
}
