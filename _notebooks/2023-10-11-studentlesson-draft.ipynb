{
 "cells": [
  {
   "attachments": {},
   "cell_type": "markdown",
   "metadata": {},
   "source": [
    "---\n",
    "layout: post\n",
    "title: U4 Lesson Draft\n",
    "description: 4.3\n",
    "comments: true\n",
    "courses: { csa: {week: 1} }\n",
    "type: lessons\n",
    "---"
   ]
  },
  {
   "attachments": {},
   "cell_type": "markdown",
   "metadata": {},
   "source": [
    "LEARNING OBJECTIVES: \n",
    "For algorithms in the context of a particular specification that involves ```String``` objects: \n",
    "- identify standard algorithms \n",
    "- modify standard algorithms \n",
    "- develop an algorithm\n",
    "\n"
   ]
  },
  {
   "attachments": {},
   "cell_type": "markdown",
   "metadata": {},
   "source": [
    "\n",
    "**Java has many methods that are helpful when working with strings:**\n",
    "\n",
    "* ```String .substring``` --> retrieves portion of a string\n",
    "* ```String .equals``` --> compares two strings\n",
    "* ```String .length``` --> returns length of a string\n",
    "* ```for Loop``` --> iterating through characters of a string\n",
    "\n",
    "<br>\n",
    "<br>\n",
    "\n",
    "<h3> Finding a substring within a string </h3>\n",
    "\n",
    "We can use the \"window\" method:\n",
    "\n",
    "A \"window\" is created the same length as the substring. We then iterate through the main string in sections and compare to the substring \n",
    "\n",
    "For example: \n",
    "\n",
    "<h3> I T E R A T E </h3>with substring \"ERA\"\n",
    "\n",
    "<br>\n",
    "<br>\n",
    "<br>\n",
    "\n"
   ]
  },
  {
   "cell_type": "code",
   "execution_count": null,
   "metadata": {},
   "outputs": [],
   "source": [
    "public class StringFinder {\n",
    "public static void main(String[] args) {\n",
    "    String word = \"iterate\";\n",
    "    String sub = \"era\";\n",
    "    boolean found = false; // will be set to true once substring is found \n",
    "\n",
    "    for (int i = 0; i < word.length(); i++) { //iterating forwards: starting at first index (0) and going to the length of the word.. let's try word.length\n",
    "        String portion = word.substring(i, i + sub.length());\n",
    "        if (portion.equals(sub)) // make sure you use .equals!!\n",
    "            found = true;\n",
    "    }\n",
    "\n",
    "    if (found)\n",
    "        System.out.println(\"substring is found within string!\");\n",
    "    else\n",
    "        System.out.println(\"substring is NOT within string\");\n",
    "}\n",
    "\n",
    "}\n",
    "\n",
    "StringFinder.main(null);"
   ]
  },
  {
   "attachments": {},
   "cell_type": "markdown",
   "metadata": {},
   "source": [
    "<h4> POPCORN HACK: Run the code.. what happened? How can we fix it?</h4>\n",
    "\n",
    "Tell us below!\n",
    "\n",
    "<br>\n",
    "<br>\n",
    "\n",
    "<h4> Another issue:</h4>\n",
    "\n",
    "<h3> I T E R A T E </h3> \n",
    "What if our substring was the word \"RATE\"? Note that RATE is at the end of the whole string\n"
   ]
  },
  {
   "cell_type": "code",
   "execution_count": 9,
   "metadata": {},
   "outputs": [
    {
     "name": "stdout",
     "output_type": "stream",
     "text": [
      "substring is NOT within string\n"
     ]
    }
   ],
   "source": [
    "public class StringFinder {\n",
    "    public static void main(String[] args) {\n",
    "        String word = \"iterate\";\n",
    "        String sub = \"rate\";\n",
    "        boolean found = false;  \n",
    "    \n",
    "        for (int i = 0; i < word.length() - sub.length(); i++) { //make sure the comparison is <=\n",
    "            String portion = word.substring(i, i + sub.length());\n",
    "            if (portion.equals(sub)) \n",
    "                found = true;\n",
    "        }\n",
    "    \n",
    "        if (found)\n",
    "            System.out.println(\"substring is found within string!\");\n",
    "        else\n",
    "            System.out.println(\"substring is NOT within string\");\n",
    "    }\n",
    "    \n",
    "    }\n",
    "    \n",
    "    StringFinder.main(null);"
   ]
  },
  {
   "attachments": {},
   "cell_type": "markdown",
   "metadata": {},
   "source": [
    "<h3> HACKS </h3>\n",
    "\n",
    "**Create a algorithm similar to the one above. Except this time, use iteration to count the number of vowels within the main string.**\n",
    "\n",
    "HINT: Use the boolean expressions we have learned in previous lessons. Which would you use when comparing your \"window\" with multiple options of substrings?"
   ]
  }
 ],
 "metadata": {
  "kernelspec": {
   "display_name": "Java",
   "language": "java",
   "name": "java"
  },
  "language_info": {
   "codemirror_mode": "java",
   "file_extension": ".jshell",
   "mimetype": "text/x-java-source",
   "name": "java",
   "pygments_lexer": "java",
   "version": "20.0.1"
  },
  "orig_nbformat": 4
 },
 "nbformat": 4,
 "nbformat_minor": 2
}
