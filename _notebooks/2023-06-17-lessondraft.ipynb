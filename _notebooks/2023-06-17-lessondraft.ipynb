{
 "cells": [
  {
   "attachments": {},
   "cell_type": "markdown",
   "metadata": {},
   "source": [
    "---\n",
    "toc: true\n",
    "comments: true\n",
    "layout: post\n",
    "title: Binary Racer Lesson First Draft \n",
    "description: A guide on simple sprite animations using Javascript, and how to implement them into games\n",
    "courses:\n",
    "type: hacks\n",
    "---\n"
   ]
  },
  {
   "cell_type": "code",
   "execution_count": null,
   "metadata": {
    "vscode": {
     "languageId": "html"
    }
   },
   "outputs": [],
   "source": [
    "<canvas id=\"spriteContainer\" class=\"carContainer\">\n",
    "    <img class=\"car1\" id =\"car\" src=\"images/carSprites.png\">\n",
    "  </canvas>"
   ]
  },
  {
   "cell_type": "code",
   "execution_count": null,
   "metadata": {
    "vscode": {
     "languageId": "javascript"
    }
   },
   "outputs": [],
   "source": [
    "window.addEventListener('load', function(){\n",
    "    ans = 0\n",
    "    const canvas = document.getElementById('spriteContainer');\n",
    "    const ctx = canvas.getContext('2d');\n",
    "    canvas.width = 220 * 1.2;\n",
    "    canvas.height = 160 * 1.2; \n",
    "    \n",
    "    class Car {\n",
    "        constructor(){ \n",
    "            this.image = document.getElementById(\"car\")\n",
    "            this.spriteWidth = 220;\n",
    "            this.spriteHeight = 160;\n",
    "            this.width = this.spriteWidth;\n",
    "            this.height = this.spriteHeight;\n",
    "            this.x = 0;\n",
    "            this.y = 0;\n",
    "            this.scale = 1.2;\n",
    "            this.minFrame = 0;\n",
    "            this.maxFrame = 48;\n",
    "            this.frameX = 0;\n",
    "            this.frameY = 0;\n",
    "        }\n",
    "        draw(context){\n",
    "            context.drawImage(this.image, this.frameX * this.spriteWidth, this.frameY * this.spriteHeight, this.spriteWidth, this.spriteHeight, this.x, this.y, this.width * this.scale, this.height * this.scale);\n",
    "        }\n",
    "        update(){\n",
    "            if (this.frameX < 15) this.frameX++ \n",
    "            else this.frameX = 0;\n",
    "    \n",
    "            \n",
    "        }\n",
    "    }\n",
    "    const car = new Car();\n",
    "    \n",
    "    function animate(){\n",
    "        ctx.clearRect(0, 0, canvas.width, canvas.height);\n",
    "        car.draw(ctx);\n",
    "        car.update();\n",
    "        requestAnimationFrame(animate);\n",
    "        \n",
    "    }\n",
    "    animate();\n",
    "    });\n",
    "    "
   ]
  }
 ],
 "metadata": {
  "language_info": {
   "name": "python"
  },
  "orig_nbformat": 4
 },
 "nbformat": 4,
 "nbformat_minor": 2
}
