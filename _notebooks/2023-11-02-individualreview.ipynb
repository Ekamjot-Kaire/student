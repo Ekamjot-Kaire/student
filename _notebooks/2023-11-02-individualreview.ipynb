{
 "cells": [
  {
   "attachments": {},
   "cell_type": "markdown",
   "metadata": {},
   "source": [
    "---\n",
    "toc: true\n",
    "comments: true\n",
    "layout: post\n",
    "title: Individual Review \n",
    "courses: { csa: {week: 11} }\n",
    "---"
   ]
  },
  {
   "attachments": {},
   "cell_type": "markdown",
   "metadata": {},
   "source": [
    "## Feature: SQL Database to store meeting notes and scheduling timings"
   ]
  },
  {
   "attachments": {},
   "cell_type": "markdown",
   "metadata": {},
   "source": [
    "Table Stores:\n",
    " - Meeting name \n",
    " - Short Description \n",
    "\n",
    " ChatGPT AI feature --> user input is stored in the table, along with a name the user is required to input \n",
    "\n",
    "future feature if we were to continue the project: \n",
    " Scheduling feature --> have a date stored on the table that is regularly checked, and use it to send the SMS messaging through Twilio \n",
    "\n",
    "\n",
    "\n",
    " \n"
   ]
  },
  {
   "attachments": {},
   "cell_type": "markdown",
   "metadata": {},
   "source": [
    "### PROCESS + NEW LEARNING:\n",
    "\n",
    "- initialized a new framework in Spring.. similar to Flask except using Java \n",
    "\n",
    "![](images/initializr.png)\n",
    "\n",
    "- used Maven to start up Spring backend: \n",
    "\n",
    "![](images/spring.png)\n",
    "\n",
    "- Created a Meeting class to create a table in sql database using the columns id, meeting name, and meeting description \n",
    "- API controller with mapping from CRUD operations \n",
    "- JPA repository to create a RESTFUL API (extended the JpaRepository)\n",
    "\n"
   ]
  },
  {
   "cell_type": "code",
   "execution_count": null,
   "metadata": {
    "vscode": {
     "languageId": "plaintext"
    }
   },
   "outputs": [],
   "source": [
    "public interface MeetingJpaRepository extends JpaRepository<Meeting, Long> {\n",
    "\n",
    "    List<Meeting> findAllByOrderByMeetingNameAsc(); \n",
    "\n",
    "    List<Meeting> findByMeetingNameIgnoreCase(String meetingName);\n",
    "}"
   ]
  }
 ],
 "metadata": {
  "language_info": {
   "name": "python"
  },
  "orig_nbformat": 4
 },
 "nbformat": 4,
 "nbformat_minor": 2
}
