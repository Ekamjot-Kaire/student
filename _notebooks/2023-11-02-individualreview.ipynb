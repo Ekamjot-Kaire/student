{
 "cells": [
  {
   "attachments": {},
   "cell_type": "markdown",
   "metadata": {},
   "source": [
    "---\n",
    "toc: true\n",
    "comments: true\n",
    "layout: post\n",
    "title: Individual Review \n",
    "courses: { csa: {week: 11} }\n",
    "---"
   ]
  },
  {
   "attachments": {},
   "cell_type": "markdown",
   "metadata": {},
   "source": [
    "## Feature: SQL Database to store meeting notes and scheduling timings"
   ]
  },
  {
   "attachments": {},
   "cell_type": "markdown",
   "metadata": {},
   "source": [
    "Table Stores:\n",
    " - Meeting name \n",
    " - Short Description \n",
    "\n",
    " ChatGPT AI feature --> user input is stored in the table, along with a name the user is required to input \n",
    "\n",
    "future feature if we were to continue the project: \n",
    " Scheduling feature --> have a date stored on the table that is regularly checked, and use it to send the SMS messaging through Twilio \n",
    "\n",
    "\n",
    "\n",
    " \n"
   ]
  },
  {
   "attachments": {},
   "cell_type": "markdown",
   "metadata": {},
   "source": [
    "### PROCESS + NEW LEARNING:\n",
    "\n",
    "- initialized a new framework in Spring.. similar to Flask except using Java \n",
    "\n",
    "![](images/initializr.png)\n",
    "\n",
    "- used Maven to start up Spring backend: \n",
    "\n",
    "![](images/spring.png)\n",
    "\n",
    "- Created a Meeting class to create a table in sql database using the columns id, meeting name, and meeting description \n",
    "- API controller with mapping from CRUD operations \n",
    "- JPA repository to create a RESTFUL API (extended the JpaRepository)\n",
    "\n"
   ]
  },
  {
   "cell_type": "code",
   "execution_count": null,
   "metadata": {
    "vscode": {
     "languageId": "plaintext"
    }
   },
   "outputs": [],
   "source": [
    "public interface MeetingJpaRepository extends JpaRepository<Meeting, Long> {\n",
    "\n",
    "    List<Meeting> findAllByOrderByMeetingNameAsc(); \n",
    "\n",
    "    List<Meeting> findByMeetingNameIgnoreCase(String meetingName);\n",
    "}"
   ]
  },
  {
   "attachments": {},
   "cell_type": "markdown",
   "metadata": {},
   "source": [
    "![](images/framework.png)"
   ]
  },
  {
   "attachments": {},
   "cell_type": "markdown",
   "metadata": {},
   "source": [
    "### CHALLENGES/OBSTACLES \n",
    "\n",
    "* Using maven \n",
    "* Finding the correct JDBC driver \n",
    "* System err: \n",
    "\n",
    "![](images/err.png)"
   ]
  },
  {
   "attachments": {},
   "cell_type": "markdown",
   "metadata": {},
   "source": [
    "### MC REVISIONS \n",
    "\n",
    "![](images/mc.png)\n",
    "\n",
    "CORRECTION 1:\n",
    "\n",
    "![](images/mc1.png)\n",
    "\n",
    "This would lead to a Out of Bounds error. Remember to account for the 0th index \n",
    "\n",
    "![](images/mc2.png)\n",
    "\n",
    "Answer choice 1 is correct. However, answer choice 3 would only access index[0] and index[1] (again because of out of bounds)\n",
    "\n",
    "![](images/mc3.png)\n",
    "\n",
    "The array length is set and can't be changed. Therefore the last index is repeated to account for the missing number \n",
    "\n",
    "![](images/mc4.png)\n",
    "\n",
    "\n"
   ]
  }
 ],
 "metadata": {
  "language_info": {
   "name": "python"
  },
  "orig_nbformat": 4
 },
 "nbformat": 4,
 "nbformat_minor": 2
}
